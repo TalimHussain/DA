{
 "cells": [
  {
   "cell_type": "markdown",
   "id": "db24da96",
   "metadata": {},
   "source": [
    "# Dictionary"
   ]
  },
  {
   "cell_type": "code",
   "execution_count": null,
   "id": "d99091f4",
   "metadata": {},
   "outputs": [],
   "source": [
    "A dictionary  is a collection which is unorderd \n",
    "changable and indexed.\n",
    "In python dictionaries are written whihin  curly brackets\n",
    "and they have keys and values,means the dictionary contains \n",
    "two thing.\n",
    "1> fist is the key\n",
    "2>second is the value\n",
    "Creating a dictionary is as simple as placing\n",
    "items inside.\n",
    "An item has a key and a corresponding value that is\n",
    "expressed as a pair (key: value).\n"
   ]
  },
  {
   "cell_type": "code",
   "execution_count": 86,
   "id": "df3b5bb7",
   "metadata": {},
   "outputs": [],
   "source": [
    "myDict = {\n",
    "    'name':'talim',\n",
    "    'age': 23,\n",
    "    'hobby':'singing',\n",
    "    'list':[1,2,3,4,5]\n",
    "}\n"
   ]
  },
  {
   "cell_type": "code",
   "execution_count": 87,
   "id": "84981b94",
   "metadata": {},
   "outputs": [
    {
     "data": {
      "text/plain": [
       "{'name': 'talim', 'age': 23, 'hobby': 'singing', 'list': [1, 2, 3, 4, 5]}"
      ]
     },
     "execution_count": 87,
     "metadata": {},
     "output_type": "execute_result"
    }
   ],
   "source": [
    "myDict"
   ]
  },
  {
   "cell_type": "code",
   "execution_count": 88,
   "id": "053c7f7d",
   "metadata": {},
   "outputs": [],
   "source": [
    "myDict ={\n",
    "    1:200\n",
    "}"
   ]
  },
  {
   "cell_type": "code",
   "execution_count": 89,
   "id": "3a4a229d",
   "metadata": {},
   "outputs": [
    {
     "name": "stdout",
     "output_type": "stream",
     "text": [
      "{1: 200}\n"
     ]
    }
   ],
   "source": [
    "print(myDict)"
   ]
  },
  {
   "cell_type": "code",
   "execution_count": 90,
   "id": "742e1dbb",
   "metadata": {},
   "outputs": [],
   "source": [
    "myDict = {\n",
    "    'name':'talim',\n",
    "    'age': 23,\n",
    "    'hobby':'singing',\n",
    "    'list':[1,2,3,4,5],\n",
    "    'duriDict':{'1name':'singh'}\n",
    "}"
   ]
  },
  {
   "cell_type": "code",
   "execution_count": 91,
   "id": "b102e593",
   "metadata": {},
   "outputs": [
    {
     "name": "stdout",
     "output_type": "stream",
     "text": [
      "{'name': 'talim', 'age': 23, 'hobby': 'singing', 'list': [1, 2, 3, 4, 5], 'duriDict': {'1name': 'singh'}}\n"
     ]
    }
   ],
   "source": [
    "print(myDict)"
   ]
  },
  {
   "cell_type": "markdown",
   "id": "f2a42ae5",
   "metadata": {},
   "source": [
    "Que= WAP and print list & dict in Dict...."
   ]
  },
  {
   "cell_type": "code",
   "execution_count": 92,
   "id": "8c2fad35",
   "metadata": {},
   "outputs": [],
   "source": [
    "myDict={\n",
    "    'name':'talim',\n",
    "    'class':12,\n",
    "    'hobby':'cricket',\n",
    "    'list':['bat','ball','wicket','pad','halemat'],\n",
    "    'secondDict':{'class':'staddium',}\n",
    "}"
   ]
  },
  {
   "cell_type": "code",
   "execution_count": 93,
   "id": "51f0d0e4",
   "metadata": {},
   "outputs": [
    {
     "data": {
      "text/plain": [
       "{'name': 'talim',\n",
       " 'class': 12,\n",
       " 'hobby': 'cricket',\n",
       " 'list': ['bat', 'ball', 'wicket', 'pad', 'halemat'],\n",
       " 'secondDict': {'class': 'staddium'}}"
      ]
     },
     "execution_count": 93,
     "metadata": {},
     "output_type": "execute_result"
    }
   ],
   "source": [
    "myDict"
   ]
  },
  {
   "cell_type": "code",
   "execution_count": 94,
   "id": "035bf98a",
   "metadata": {},
   "outputs": [],
   "source": [
    "myDict={\n",
    "    'name':'Bhauballi',\n",
    "    'age':30,\n",
    "    'hobby': \"Mashmati ki suraksha\",\n",
    "    'weapons':['talwar','bhala','toop','dhanus'],\n",
    "    'dusraDist':{\n",
    "        'name':'Bhaladev',\n",
    "        'age':35\n",
    "        \n",
    "    },\n",
    "    1:2\n",
    "}"
   ]
  },
  {
   "cell_type": "code",
   "execution_count": 95,
   "id": "bf8679f2",
   "metadata": {},
   "outputs": [
    {
     "data": {
      "text/plain": [
       "{'name': 'Bhauballi',\n",
       " 'age': 30,\n",
       " 'hobby': 'Mashmati ki suraksha',\n",
       " 'weapons': ['talwar', 'bhala', 'toop', 'dhanus'],\n",
       " 'dusraDist': {'name': 'Bhaladev', 'age': 35},\n",
       " 1: 2}"
      ]
     },
     "execution_count": 95,
     "metadata": {},
     "output_type": "execute_result"
    }
   ],
   "source": [
    "myDict"
   ]
  },
  {
   "cell_type": "code",
   "execution_count": 96,
   "id": "023cabef",
   "metadata": {},
   "outputs": [
    {
     "name": "stdout",
     "output_type": "stream",
     "text": [
      "Bhauballi\n"
     ]
    }
   ],
   "source": [
    "#slicing in dict\n",
    "print(myDict['name'])"
   ]
  },
  {
   "cell_type": "code",
   "execution_count": 97,
   "id": "fa31355c",
   "metadata": {},
   "outputs": [
    {
     "name": "stdout",
     "output_type": "stream",
     "text": [
      "30\n"
     ]
    }
   ],
   "source": [
    "print(myDict['age'])"
   ]
  },
  {
   "cell_type": "code",
   "execution_count": 98,
   "id": "9788d6f8",
   "metadata": {},
   "outputs": [
    {
     "ename": "TypeError",
     "evalue": "string indices must be integers",
     "output_type": "error",
     "traceback": [
      "\u001b[1;31m---------------------------------------------------------------------------\u001b[0m",
      "\u001b[1;31mTypeError\u001b[0m                                 Traceback (most recent call last)",
      "\u001b[1;32m<ipython-input-98-27c9893de3b9>\u001b[0m in \u001b[0;36m<module>\u001b[1;34m\u001b[0m\n\u001b[1;32m----> 1\u001b[1;33m \u001b[0mprint\u001b[0m\u001b[1;33m(\u001b[0m\u001b[0mmyDict\u001b[0m\u001b[1;33m[\u001b[0m\u001b[1;34m'name'\u001b[0m\u001b[1;33m]\u001b[0m\u001b[1;33m[\u001b[0m\u001b[1;34m'age'\u001b[0m\u001b[1;33m]\u001b[0m\u001b[1;33m)\u001b[0m\u001b[1;33m\u001b[0m\u001b[1;33m\u001b[0m\u001b[0m\n\u001b[0m",
      "\u001b[1;31mTypeError\u001b[0m: string indices must be integers"
     ]
    }
   ],
   "source": [
    "print(myDict['name']['age'])"
   ]
  },
  {
   "cell_type": "code",
   "execution_count": 99,
   "id": "e8391167",
   "metadata": {},
   "outputs": [
    {
     "data": {
      "text/plain": [
       "'talwar'"
      ]
     },
     "execution_count": 99,
     "metadata": {},
     "output_type": "execute_result"
    }
   ],
   "source": [
    "myDict['weapons'][0]"
   ]
  },
  {
   "cell_type": "code",
   "execution_count": 100,
   "id": "6369dadf",
   "metadata": {},
   "outputs": [
    {
     "data": {
      "text/plain": [
       "'toop'"
      ]
     },
     "execution_count": 100,
     "metadata": {},
     "output_type": "execute_result"
    }
   ],
   "source": [
    "myDict['weapons'][2]"
   ]
  },
  {
   "cell_type": "code",
   "execution_count": 101,
   "id": "c1082621",
   "metadata": {},
   "outputs": [
    {
     "data": {
      "text/plain": [
       "{'name': 'Bhauballi',\n",
       " 'age': 30,\n",
       " 'hobby': 'Mashmati ki suraksha',\n",
       " 'weapons': ['talwar', 'bhala', 'toop', 'dhanus'],\n",
       " 'dusraDist': {'name': 'Bhaladev', 'age': 35},\n",
       " 1: 2}"
      ]
     },
     "execution_count": 101,
     "metadata": {},
     "output_type": "execute_result"
    }
   ],
   "source": [
    "myDict"
   ]
  },
  {
   "cell_type": "code",
   "execution_count": 102,
   "id": "bc1e1aa0",
   "metadata": {},
   "outputs": [
    {
     "data": {
      "text/plain": [
       "'a'"
      ]
     },
     "execution_count": 102,
     "metadata": {},
     "output_type": "execute_result"
    }
   ],
   "source": [
    "myDict['dusraDist']['name'][4]"
   ]
  },
  {
   "cell_type": "code",
   "execution_count": 103,
   "id": "40946f0b",
   "metadata": {},
   "outputs": [
    {
     "data": {
      "text/plain": [
       "{'name': 'Bhauballi',\n",
       " 'age': 30,\n",
       " 'hobby': 'Mashmati ki suraksha',\n",
       " 'weapons': ['talwar', 'bhala', 'toop', 'dhanus'],\n",
       " 'dusraDist': {'name': 'Bhaladev', 'age': 35},\n",
       " 1: 2}"
      ]
     },
     "execution_count": 103,
     "metadata": {},
     "output_type": "execute_result"
    }
   ],
   "source": [
    "myDict"
   ]
  },
  {
   "cell_type": "code",
   "execution_count": 104,
   "id": "e311e90f",
   "metadata": {},
   "outputs": [
    {
     "data": {
      "text/plain": [
       "'bhala'"
      ]
     },
     "execution_count": 104,
     "metadata": {},
     "output_type": "execute_result"
    }
   ],
   "source": [
    "myDict['weapons'][1]"
   ]
  },
  {
   "cell_type": "code",
   "execution_count": 105,
   "id": "81ec685d",
   "metadata": {},
   "outputs": [
    {
     "data": {
      "text/plain": [
       "'toop'"
      ]
     },
     "execution_count": 105,
     "metadata": {},
     "output_type": "execute_result"
    }
   ],
   "source": [
    "myDict['weapons'][2]"
   ]
  },
  {
   "cell_type": "code",
   "execution_count": 106,
   "id": "3c07c13f",
   "metadata": {},
   "outputs": [
    {
     "data": {
      "text/plain": [
       "'talwar'"
      ]
     },
     "execution_count": 106,
     "metadata": {},
     "output_type": "execute_result"
    }
   ],
   "source": [
    "myDict['weapons'][0]"
   ]
  },
  {
   "cell_type": "markdown",
   "id": "7854daa1",
   "metadata": {},
   "source": [
    "# Mathods in Dictionary"
   ]
  },
  {
   "cell_type": "markdown",
   "id": "4e48230e",
   "metadata": {},
   "source": [
    "key"
   ]
  },
  {
   "cell_type": "markdown",
   "id": "e6f599ee",
   "metadata": {},
   "source": [
    "Items"
   ]
  },
  {
   "cell_type": "markdown",
   "id": "47003ae9",
   "metadata": {},
   "source": [
    "Value"
   ]
  },
  {
   "cell_type": "markdown",
   "id": "d8ce33fc",
   "metadata": {},
   "source": [
    "Update"
   ]
  },
  {
   "cell_type": "code",
   "execution_count": 107,
   "id": "d5a95fc1",
   "metadata": {},
   "outputs": [
    {
     "data": {
      "text/plain": [
       "{'name': 'Bhauballi',\n",
       " 'age': 30,\n",
       " 'hobby': 'Mashmati ki suraksha',\n",
       " 'weapons': ['talwar', 'bhala', 'toop', 'dhanus'],\n",
       " 'dusraDist': {'name': 'Bhaladev', 'age': 35},\n",
       " 1: 2}"
      ]
     },
     "execution_count": 107,
     "metadata": {},
     "output_type": "execute_result"
    }
   ],
   "source": [
    "myDict"
   ]
  },
  {
   "cell_type": "code",
   "execution_count": 108,
   "id": "e45e8927",
   "metadata": {},
   "outputs": [
    {
     "data": {
      "text/plain": [
       "dict"
      ]
     },
     "execution_count": 108,
     "metadata": {},
     "output_type": "execute_result"
    }
   ],
   "source": [
    "type(myDict)"
   ]
  },
  {
   "cell_type": "code",
   "execution_count": 109,
   "id": "6d68765e",
   "metadata": {},
   "outputs": [
    {
     "data": {
      "text/plain": [
       "dict_keys(['name', 'age', 'hobby', 'weapons', 'dusraDist', 1])"
      ]
     },
     "execution_count": 109,
     "metadata": {},
     "output_type": "execute_result"
    }
   ],
   "source": [
    "#Keys\n",
    "myDict.keys()"
   ]
  },
  {
   "cell_type": "code",
   "execution_count": 110,
   "id": "62301581",
   "metadata": {},
   "outputs": [
    {
     "name": "stdout",
     "output_type": "stream",
     "text": [
      "['name', 'age', 'hobby', 'weapons', 'dusraDist', 1]\n"
     ]
    }
   ],
   "source": [
    "x = list(myDict.keys())      #change dictionary to list\n",
    "print(x)"
   ]
  },
  {
   "cell_type": "code",
   "execution_count": 111,
   "id": "f92524d5",
   "metadata": {},
   "outputs": [
    {
     "data": {
      "text/plain": [
       "list"
      ]
     },
     "execution_count": 111,
     "metadata": {},
     "output_type": "execute_result"
    }
   ],
   "source": [
    "type(x)"
   ]
  },
  {
   "cell_type": "code",
   "execution_count": 112,
   "id": "54096672",
   "metadata": {},
   "outputs": [
    {
     "data": {
      "text/plain": [
       "dict_items([('name', 'Bhauballi'), ('age', 30), ('hobby', 'Mashmati ki suraksha'), ('weapons', ['talwar', 'bhala', 'toop', 'dhanus']), ('dusraDist', {'name': 'Bhaladev', 'age': 35}), (1, 2)])"
      ]
     },
     "execution_count": 112,
     "metadata": {},
     "output_type": "execute_result"
    }
   ],
   "source": [
    "#DICTIONARY\n",
    "myDict.items()       #Find items"
   ]
  },
  {
   "cell_type": "code",
   "execution_count": 113,
   "id": "c10a175c",
   "metadata": {},
   "outputs": [
    {
     "data": {
      "text/plain": [
       "{'name': 'Bhauballi',\n",
       " 'age': 30,\n",
       " 'hobby': 'Mashmati ki suraksha',\n",
       " 'weapons': ['talwar', 'bhala', 'toop', 'dhanus'],\n",
       " 'dusraDist': {'name': 'Bhaladev', 'age': 35},\n",
       " 1: 2}"
      ]
     },
     "execution_count": 113,
     "metadata": {},
     "output_type": "execute_result"
    }
   ],
   "source": [
    "#Update\n",
    "myDict"
   ]
  },
  {
   "cell_type": "code",
   "execution_count": 114,
   "id": "4936415b",
   "metadata": {},
   "outputs": [],
   "source": [
    "myUpdate = {\n",
    "    1:100\n",
    "}\n",
    "myDict.update(myUpdate)"
   ]
  },
  {
   "cell_type": "code",
   "execution_count": 115,
   "id": "a1d4d4fd",
   "metadata": {},
   "outputs": [
    {
     "data": {
      "text/plain": [
       "{'name': 'Bhauballi',\n",
       " 'age': 30,\n",
       " 'hobby': 'Mashmati ki suraksha',\n",
       " 'weapons': ['talwar', 'bhala', 'toop', 'dhanus'],\n",
       " 'dusraDist': {'name': 'Bhaladev', 'age': 35},\n",
       " 1: 100}"
      ]
     },
     "execution_count": 115,
     "metadata": {},
     "output_type": "execute_result"
    }
   ],
   "source": [
    "myDict"
   ]
  },
  {
   "cell_type": "code",
   "execution_count": 116,
   "id": "bea45a74",
   "metadata": {},
   "outputs": [],
   "source": [
    "myUpdate = {\n",
    "    'welcome':'noida'\n",
    "}\n",
    "myDict.update(myUpdate)"
   ]
  },
  {
   "cell_type": "code",
   "execution_count": 117,
   "id": "0f5b8f11",
   "metadata": {},
   "outputs": [
    {
     "data": {
      "text/plain": [
       "{'name': 'Bhauballi',\n",
       " 'age': 30,\n",
       " 'hobby': 'Mashmati ki suraksha',\n",
       " 'weapons': ['talwar', 'bhala', 'toop', 'dhanus'],\n",
       " 'dusraDist': {'name': 'Bhaladev', 'age': 35},\n",
       " 1: 100,\n",
       " 'welcome': 'noida'}"
      ]
     },
     "execution_count": 117,
     "metadata": {},
     "output_type": "execute_result"
    }
   ],
   "source": [
    "myDict"
   ]
  },
  {
   "cell_type": "code",
   "execution_count": 118,
   "id": "78f6aa03",
   "metadata": {},
   "outputs": [],
   "source": [
    "myDict.update({\n",
    "    'name':'sharukh khan',\n",
    "    1:500,\n",
    "    'vegetable':'fox'\n",
    "})"
   ]
  },
  {
   "cell_type": "code",
   "execution_count": 119,
   "id": "5008bd9d",
   "metadata": {},
   "outputs": [
    {
     "data": {
      "text/plain": [
       "{'name': 'sharukh khan',\n",
       " 'age': 30,\n",
       " 'hobby': 'Mashmati ki suraksha',\n",
       " 'weapons': ['talwar', 'bhala', 'toop', 'dhanus'],\n",
       " 'dusraDist': {'name': 'Bhaladev', 'age': 35},\n",
       " 1: 500,\n",
       " 'welcome': 'noida',\n",
       " 'vegetable': 'fox'}"
      ]
     },
     "execution_count": 119,
     "metadata": {},
     "output_type": "execute_result"
    }
   ],
   "source": [
    "myDict"
   ]
  },
  {
   "cell_type": "code",
   "execution_count": 120,
   "id": "73e9f5ef",
   "metadata": {},
   "outputs": [],
   "source": [
    "#set\n",
    "s =  {'Programmer',12,'Python'}"
   ]
  },
  {
   "cell_type": "code",
   "execution_count": 121,
   "id": "b81e9577",
   "metadata": {},
   "outputs": [
    {
     "data": {
      "text/plain": [
       "set"
      ]
     },
     "execution_count": 121,
     "metadata": {},
     "output_type": "execute_result"
    }
   ],
   "source": [
    "type(s)"
   ]
  },
  {
   "cell_type": "code",
   "execution_count": 122,
   "id": "56b13390",
   "metadata": {},
   "outputs": [],
   "source": [
    "t ={\n",
    "    'aman'\n",
    "}"
   ]
  },
  {
   "cell_type": "code",
   "execution_count": 123,
   "id": "3c46e597",
   "metadata": {},
   "outputs": [
    {
     "data": {
      "text/plain": [
       "{'aman'}"
      ]
     },
     "execution_count": 123,
     "metadata": {},
     "output_type": "execute_result"
    }
   ],
   "source": [
    "t"
   ]
  },
  {
   "cell_type": "code",
   "execution_count": 124,
   "id": "b97186bb",
   "metadata": {},
   "outputs": [
    {
     "data": {
      "text/plain": [
       "set"
      ]
     },
     "execution_count": 124,
     "metadata": {},
     "output_type": "execute_result"
    }
   ],
   "source": [
    "type(t)"
   ]
  },
  {
   "cell_type": "code",
   "execution_count": 125,
   "id": "4d7ebb92",
   "metadata": {},
   "outputs": [],
   "source": [
    "t ={\n",
    "    12\n",
    "}"
   ]
  },
  {
   "cell_type": "code",
   "execution_count": 126,
   "id": "96d0f696",
   "metadata": {},
   "outputs": [
    {
     "data": {
      "text/plain": [
       "set"
      ]
     },
     "execution_count": 126,
     "metadata": {},
     "output_type": "execute_result"
    }
   ],
   "source": [
    "type(t)"
   ]
  },
  {
   "cell_type": "code",
   "execution_count": null,
   "id": "06bc415f",
   "metadata": {},
   "outputs": [],
   "source": []
  },
  {
   "cell_type": "code",
   "execution_count": 16,
   "id": "9bcd5e59",
   "metadata": {},
   "outputs": [
    {
     "name": "stdout",
     "output_type": "stream",
     "text": [
      "model\n",
      "2020\n",
      "year\n",
      "Dzire\n",
      "brand\n",
      "suzuki\n"
     ]
    }
   ],
   "source": [
    "dict1 = {'brand','suzuki','model','Dzire','year',2020}\n",
    "for x in dict1:\n",
    "    print(x)"
   ]
  },
  {
   "cell_type": "code",
   "execution_count": 17,
   "id": "14712c8c",
   "metadata": {},
   "outputs": [
    {
     "name": "stdout",
     "output_type": "stream",
     "text": [
      "suzuki\n"
     ]
    }
   ],
   "source": [
    "print(x)"
   ]
  },
  {
   "cell_type": "code",
   "execution_count": null,
   "id": "7398b60f",
   "metadata": {},
   "outputs": [],
   "source": []
  },
  {
   "cell_type": "code",
   "execution_count": null,
   "id": "7de5921f",
   "metadata": {},
   "outputs": [],
   "source": []
  },
  {
   "cell_type": "markdown",
   "id": "55695631",
   "metadata": {},
   "source": [
    "Practices"
   ]
  },
  {
   "cell_type": "code",
   "execution_count": 23,
   "id": "205bcff6",
   "metadata": {},
   "outputs": [
    {
     "name": "stdout",
     "output_type": "stream",
     "text": [
      "jack\n"
     ]
    }
   ],
   "source": [
    "my_dict = {'name':'jack','age':45,'address':'punhana'}\n",
    "print(my_dict['name'])"
   ]
  },
  {
   "cell_type": "code",
   "execution_count": 24,
   "id": "d9e31baf",
   "metadata": {},
   "outputs": [
    {
     "name": "stdout",
     "output_type": "stream",
     "text": [
      "45\n"
     ]
    }
   ],
   "source": [
    "print(my_dict.get('age'))"
   ]
  },
  {
   "cell_type": "code",
   "execution_count": 28,
   "id": "c1db6404",
   "metadata": {},
   "outputs": [
    {
     "name": "stdout",
     "output_type": "stream",
     "text": [
      "punhana\n"
     ]
    }
   ],
   "source": [
    "print(my_dict.get('address'))"
   ]
  },
  {
   "cell_type": "code",
   "execution_count": 30,
   "id": "ccd9a9d9",
   "metadata": {},
   "outputs": [
    {
     "name": "stdout",
     "output_type": "stream",
     "text": [
      "{'name': 'jack', 'age': 45, 'address': 'punhana'}\n"
     ]
    }
   ],
   "source": [
    "my_dict = {'name':'jack','age':45,'address':'punhana'}\n",
    "print(my_dict)"
   ]
  },
  {
   "cell_type": "code",
   "execution_count": 31,
   "id": "871ca0e6",
   "metadata": {},
   "outputs": [],
   "source": [
    "#Update value\n",
    "my_dict['age']=30"
   ]
  },
  {
   "cell_type": "code",
   "execution_count": 32,
   "id": "b5b11fc2",
   "metadata": {},
   "outputs": [
    {
     "name": "stdout",
     "output_type": "stream",
     "text": [
      "{'name': 'jack', 'age': 30, 'address': 'punhana'}\n"
     ]
    }
   ],
   "source": [
    "print(my_dict)"
   ]
  },
  {
   "cell_type": "code",
   "execution_count": 33,
   "id": "863ddb90",
   "metadata": {},
   "outputs": [],
   "source": [
    "#add item\n",
    "my_dict['address']='Downtown'"
   ]
  },
  {
   "cell_type": "code",
   "execution_count": 34,
   "id": "f06812f8",
   "metadata": {},
   "outputs": [
    {
     "name": "stdout",
     "output_type": "stream",
     "text": [
      "{'name': 'jack', 'age': 30, 'address': 'Downtown'}\n"
     ]
    }
   ],
   "source": [
    "print(my_dict)"
   ]
  },
  {
   "cell_type": "code",
   "execution_count": 44,
   "id": "b5afda79",
   "metadata": {},
   "outputs": [],
   "source": [
    "my_dict['name']='johncina'"
   ]
  }
 ],
 "metadata": {
  "kernelspec": {
   "display_name": "Python 3",
   "language": "python",
   "name": "python3"
  },
  "language_info": {
   "codemirror_mode": {
    "name": "ipython",
    "version": 3
   },
   "file_extension": ".py",
   "mimetype": "text/x-python",
   "name": "python",
   "nbconvert_exporter": "python",
   "pygments_lexer": "ipython3",
   "version": "3.8.8"
  }
 },
 "nbformat": 4,
 "nbformat_minor": 5
}
