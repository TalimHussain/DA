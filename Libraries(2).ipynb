{
 "cells": [
  {
   "cell_type": "markdown",
   "id": "cadb2def",
   "metadata": {},
   "source": [
    "# 1=arange\n"
   ]
  },
  {
   "cell_type": "code",
   "execution_count": 1,
   "id": "ae7d3963",
   "metadata": {},
   "outputs": [],
   "source": [
    "import numpy as np"
   ]
  },
  {
   "cell_type": "code",
   "execution_count": 2,
   "id": "69a67724",
   "metadata": {},
   "outputs": [
    {
     "data": {
      "text/plain": [
       "array([ 0,  1,  2,  3,  4,  5,  6,  7,  8,  9, 10, 11])"
      ]
     },
     "execution_count": 2,
     "metadata": {},
     "output_type": "execute_result"
    }
   ],
   "source": [
    "np.arange(12)"
   ]
  },
  {
   "cell_type": "code",
   "execution_count": 3,
   "id": "c6054dc9",
   "metadata": {},
   "outputs": [
    {
     "data": {
      "text/plain": [
       "array([ 4,  5,  6,  7,  8,  9, 10, 11])"
      ]
     },
     "execution_count": 3,
     "metadata": {},
     "output_type": "execute_result"
    }
   ],
   "source": [
    "np.arange(4,12)"
   ]
  },
  {
   "cell_type": "code",
   "execution_count": 4,
   "id": "11c224f9",
   "metadata": {},
   "outputs": [
    {
     "data": {
      "text/plain": [
       "array([132, 133, 134, 135, 136, 137, 138, 139, 140, 141, 142, 143, 144,\n",
       "       145, 146, 147, 148, 149])"
      ]
     },
     "execution_count": 4,
     "metadata": {},
     "output_type": "execute_result"
    }
   ],
   "source": [
    "np.arange(132,150)"
   ]
  },
  {
   "cell_type": "code",
   "execution_count": 5,
   "id": "9d146243",
   "metadata": {},
   "outputs": [
    {
     "data": {
      "text/plain": [
       "array([], dtype=int32)"
      ]
     },
     "execution_count": 5,
     "metadata": {},
     "output_type": "execute_result"
    }
   ],
   "source": [
    "np.arange(12,2,6)"
   ]
  },
  {
   "cell_type": "code",
   "execution_count": 6,
   "id": "f4c8f69c",
   "metadata": {},
   "outputs": [
    {
     "data": {
      "text/plain": [
       "array([2])"
      ]
     },
     "execution_count": 6,
     "metadata": {},
     "output_type": "execute_result"
    }
   ],
   "source": [
    "np.arange(2,6,12)"
   ]
  },
  {
   "cell_type": "code",
   "execution_count": 7,
   "id": "05239d6b",
   "metadata": {},
   "outputs": [
    {
     "data": {
      "text/plain": [
       "array([10, 11, 12, 13, 14, 15])"
      ]
     },
     "execution_count": 7,
     "metadata": {},
     "output_type": "execute_result"
    }
   ],
   "source": [
    "np.arange(10,16)"
   ]
  },
  {
   "cell_type": "code",
   "execution_count": 8,
   "id": "c369e946",
   "metadata": {},
   "outputs": [
    {
     "data": {
      "text/plain": [
       "array([0])"
      ]
     },
     "execution_count": 8,
     "metadata": {},
     "output_type": "execute_result"
    }
   ],
   "source": [
    "np.arange(0,1,2,)"
   ]
  },
  {
   "cell_type": "code",
   "execution_count": 9,
   "id": "1d1341a8",
   "metadata": {},
   "outputs": [
    {
     "data": {
      "text/plain": [
       "array([3])"
      ]
     },
     "execution_count": 9,
     "metadata": {},
     "output_type": "execute_result"
    }
   ],
   "source": [
    "np.arange(3,4,6)"
   ]
  },
  {
   "cell_type": "code",
   "execution_count": 10,
   "id": "3dcbc067",
   "metadata": {},
   "outputs": [
    {
     "data": {
      "text/plain": [
       "array([   0,    1,    2, ..., 1497, 1498, 1499])"
      ]
     },
     "execution_count": 10,
     "metadata": {},
     "output_type": "execute_result"
    }
   ],
   "source": [
    "np.arange(1500)"
   ]
  },
  {
   "cell_type": "code",
   "execution_count": 11,
   "id": "c830c35b",
   "metadata": {},
   "outputs": [
    {
     "data": {
      "text/plain": [
       "array([12])"
      ]
     },
     "execution_count": 11,
     "metadata": {},
     "output_type": "execute_result"
    }
   ],
   "source": [
    "np.arange(12,20,30)"
   ]
  },
  {
   "cell_type": "markdown",
   "id": "389bffcc",
   "metadata": {},
   "source": [
    "# 2 = empty"
   ]
  },
  {
   "cell_type": "code",
   "execution_count": 12,
   "id": "717105e1",
   "metadata": {},
   "outputs": [],
   "source": [
    "#.empty"
   ]
  },
  {
   "cell_type": "code",
   "execution_count": 13,
   "id": "64868e93",
   "metadata": {},
   "outputs": [
    {
     "data": {
      "text/plain": [
       "array([-1.68077484e+028, -3.06769768e-304])"
      ]
     },
     "execution_count": 13,
     "metadata": {},
     "output_type": "execute_result"
    }
   ],
   "source": [
    "np.empty(2)"
   ]
  },
  {
   "cell_type": "code",
   "execution_count": 14,
   "id": "a2844c42",
   "metadata": {},
   "outputs": [
    {
     "data": {
      "text/plain": [
       "array([0., 0., 0., 0., 0., 0.])"
      ]
     },
     "execution_count": 14,
     "metadata": {},
     "output_type": "execute_result"
    }
   ],
   "source": [
    "np.empty(6)"
   ]
  },
  {
   "cell_type": "code",
   "execution_count": 15,
   "id": "2444921c",
   "metadata": {},
   "outputs": [
    {
     "data": {
      "text/plain": [
       "array([1.44694655e-311, 6.27463370e-322, 0.00000000e+000, 0.00000000e+000,\n",
       "       8.01097888e-307, 5.30276956e+180, 1.02941932e-071, 6.98476580e-076,\n",
       "       3.45696583e-086, 3.35809597e-143, 6.01433264e+175, 6.93885958e+218,\n",
       "       5.56218858e+180, 3.94356143e+180, 8.77515706e-071, 9.04436048e-067,\n",
       "       9.12443864e+169, 6.12956775e-062, 5.22683369e-143, 1.50008929e+248])"
      ]
     },
     "execution_count": 15,
     "metadata": {},
     "output_type": "execute_result"
    }
   ],
   "source": [
    "np.empty(20)"
   ]
  },
  {
   "cell_type": "code",
   "execution_count": 16,
   "id": "06a53b05",
   "metadata": {},
   "outputs": [
    {
     "data": {
      "text/plain": [
       "array([1.44694717e-311, 2.17388884e-322, 0.00000000e+000, 0.00000000e+000,\n",
       "       0.00000000e+000, 1.16095484e-028, 7.52736939e+252, 4.50603893e-144,\n",
       "       4.82412328e+228, 1.04718130e-142])"
      ]
     },
     "execution_count": 16,
     "metadata": {},
     "output_type": "execute_result"
    }
   ],
   "source": [
    "np.empty(10)"
   ]
  },
  {
   "cell_type": "code",
   "execution_count": 56,
   "id": "378f29a1",
   "metadata": {},
   "outputs": [
    {
     "data": {
      "text/plain": [
       "array([[1.44694655e-311, 6.27463370e-322],\n",
       "       [0.00000000e+000, 0.00000000e+000],\n",
       "       [8.01097888e-307, 5.30276956e+180],\n",
       "       [1.02941932e-071, 6.98476580e-076],\n",
       "       [3.45696583e-086, 3.35809597e-143],\n",
       "       [6.01433264e+175, 6.93885958e+218],\n",
       "       [5.56218858e+180, 3.94356143e+180],\n",
       "       [8.77515706e-071, 9.04436048e-067],\n",
       "       [9.12443864e+169, 6.12956775e-062],\n",
       "       [5.22683369e-143, 1.50008929e+248]])"
      ]
     },
     "execution_count": 56,
     "metadata": {},
     "output_type": "execute_result"
    }
   ],
   "source": [
    "np.empty((10,2)) "
   ]
  },
  {
   "cell_type": "code",
   "execution_count": 18,
   "id": "6fc475e6",
   "metadata": {},
   "outputs": [
    {
     "data": {
      "text/plain": [
       "array([[1.44694717e-311, 2.17388884e-322],\n",
       "       [0.00000000e+000, 0.00000000e+000],\n",
       "       [0.00000000e+000, 1.16095484e-028],\n",
       "       [7.52736939e+252, 4.50603893e-144],\n",
       "       [4.82412328e+228, 1.04718130e-142]])"
      ]
     },
     "execution_count": 18,
     "metadata": {},
     "output_type": "execute_result"
    }
   ],
   "source": [
    "np.empty((5,2))"
   ]
  },
  {
   "cell_type": "code",
   "execution_count": 19,
   "id": "ae785c95",
   "metadata": {},
   "outputs": [
    {
     "data": {
      "text/plain": [
       "array([1.68077484e+028, 3.06769768e-304])"
      ]
     },
     "execution_count": 19,
     "metadata": {},
     "output_type": "execute_result"
    }
   ],
   "source": [
    "np.empty((2))"
   ]
  },
  {
   "cell_type": "code",
   "execution_count": 20,
   "id": "bb0e31e8",
   "metadata": {},
   "outputs": [
    {
     "data": {
      "text/plain": [
       "array([[1.44691561e-311, 1.44691562e-311, 1.44691562e-311,\n",
       "        1.44691561e-311, 1.44691562e-311, 1.44691562e-311,\n",
       "        1.44691562e-311, 1.44691561e-311, 1.44691562e-311,\n",
       "        1.44691561e-311, 1.44691561e-311, 1.44691592e-311,\n",
       "        1.44691561e-311, 1.44691561e-311, 1.44691561e-311,\n",
       "        1.44691562e-311, 1.44691561e-311, 1.44691561e-311,\n",
       "        1.44691562e-311, 1.44691561e-311, 1.44691561e-311,\n",
       "        1.44691562e-311, 1.44691562e-311],\n",
       "       [1.44691561e-311, 1.44691561e-311, 1.44691568e-311,\n",
       "        1.44691562e-311, 1.44691561e-311, 1.44691562e-311,\n",
       "        1.44691581e-311, 1.44692189e-311, 1.44693685e-311,\n",
       "        1.44692223e-311, 1.44693686e-311, 1.44692228e-311,\n",
       "        1.44692227e-311, 1.44693686e-311, 1.44692188e-311,\n",
       "        1.44693601e-311, 1.44692227e-311, 1.44692186e-311,\n",
       "        1.44692186e-311, 1.44692188e-311, 1.44692188e-311,\n",
       "        1.44693685e-311, 1.44693686e-311],\n",
       "       [1.44692187e-311, 1.44693686e-311, 1.44692189e-311,\n",
       "        1.44692224e-311, 1.44692225e-311, 1.44692224e-311,\n",
       "        1.44692224e-311, 1.44692190e-311, 1.44692188e-311,\n",
       "        1.44692227e-311, 1.44692188e-311, 1.44692189e-311,\n",
       "        1.44692051e-311, 1.44692186e-311, 1.44693686e-311,\n",
       "        1.44692288e-311, 1.44693686e-311, 1.44693686e-311,\n",
       "        1.44693599e-311, 1.44693600e-311, 1.44693685e-311,\n",
       "        1.44692188e-311, 1.44692188e-311],\n",
       "       [1.44691599e-311, 1.44693685e-311, 1.44693601e-311,\n",
       "        1.44692226e-311, 1.44692031e-311, 1.44692188e-311,\n",
       "        1.44692051e-311, 1.44692189e-311, 1.44691580e-311,\n",
       "        1.44691563e-311, 1.44692223e-311, 1.44693685e-311,\n",
       "        1.44692227e-311, 1.44692188e-311, 1.44692188e-311,\n",
       "        1.44693686e-311, 1.44692185e-311, 1.44692189e-311,\n",
       "        1.44692189e-311, 1.44692189e-311, 1.44692188e-311,\n",
       "        1.44692189e-311, 1.44692184e-311],\n",
       "       [1.44693685e-311, 1.44692184e-311, 1.44692189e-311,\n",
       "        1.44692052e-311, 1.44691577e-311, 1.44695412e-311,\n",
       "        1.44695409e-311, 1.44691571e-311, 1.44695412e-311,\n",
       "        1.44691571e-311, 1.44695412e-311, 1.44695412e-311,\n",
       "        1.44695411e-311, 1.44695411e-311, 1.44695411e-311,\n",
       "        1.44695411e-311, 1.44695409e-311, 1.44691571e-311,\n",
       "        1.44695411e-311, 1.44695411e-311, 1.44695411e-311,\n",
       "        1.44695411e-311, 1.44695410e-311]])"
      ]
     },
     "execution_count": 20,
     "metadata": {},
     "output_type": "execute_result"
    }
   ],
   "source": [
    "np.empty((5,23))     #5=row   and   23=column "
   ]
  },
  {
   "cell_type": "markdown",
   "id": "712d785f",
   "metadata": {},
   "source": [
    "# 3=Linespace"
   ]
  },
  {
   "cell_type": "code",
   "execution_count": 21,
   "id": "c3560f56",
   "metadata": {},
   "outputs": [],
   "source": [
    "#linespace\n",
    "import numpy as np"
   ]
  },
  {
   "cell_type": "code",
   "execution_count": 22,
   "id": "4f803487",
   "metadata": {},
   "outputs": [
    {
     "data": {
      "text/plain": [
       "array([2.        , 2.57142857, 3.14285714, 3.71428571, 4.28571429,\n",
       "       4.85714286, 5.42857143, 6.        ])"
      ]
     },
     "execution_count": 22,
     "metadata": {},
     "output_type": "execute_result"
    }
   ],
   "source": [
    "np.linspace(2,6,8)"
   ]
  },
  {
   "cell_type": "code",
   "execution_count": 23,
   "id": "48742eef",
   "metadata": {},
   "outputs": [
    {
     "data": {
      "text/plain": [
       "array([2.        , 2.08163265, 2.16326531, 2.24489796, 2.32653061,\n",
       "       2.40816327, 2.48979592, 2.57142857, 2.65306122, 2.73469388,\n",
       "       2.81632653, 2.89795918, 2.97959184, 3.06122449, 3.14285714,\n",
       "       3.2244898 , 3.30612245, 3.3877551 , 3.46938776, 3.55102041,\n",
       "       3.63265306, 3.71428571, 3.79591837, 3.87755102, 3.95918367,\n",
       "       4.04081633, 4.12244898, 4.20408163, 4.28571429, 4.36734694,\n",
       "       4.44897959, 4.53061224, 4.6122449 , 4.69387755, 4.7755102 ,\n",
       "       4.85714286, 4.93877551, 5.02040816, 5.10204082, 5.18367347,\n",
       "       5.26530612, 5.34693878, 5.42857143, 5.51020408, 5.59183673,\n",
       "       5.67346939, 5.75510204, 5.83673469, 5.91836735, 6.        ])"
      ]
     },
     "execution_count": 23,
     "metadata": {},
     "output_type": "execute_result"
    }
   ],
   "source": [
    "np.linspace(2,6)"
   ]
  },
  {
   "cell_type": "code",
   "execution_count": 24,
   "id": "0ce1edec",
   "metadata": {},
   "outputs": [
    {
     "data": {
      "text/plain": [
       "array([2.        , 1.97959184, 1.95918367, 1.93877551, 1.91836735,\n",
       "       1.89795918, 1.87755102, 1.85714286, 1.83673469, 1.81632653,\n",
       "       1.79591837, 1.7755102 , 1.75510204, 1.73469388, 1.71428571,\n",
       "       1.69387755, 1.67346939, 1.65306122, 1.63265306, 1.6122449 ,\n",
       "       1.59183673, 1.57142857, 1.55102041, 1.53061224, 1.51020408,\n",
       "       1.48979592, 1.46938776, 1.44897959, 1.42857143, 1.40816327,\n",
       "       1.3877551 , 1.36734694, 1.34693878, 1.32653061, 1.30612245,\n",
       "       1.28571429, 1.26530612, 1.24489796, 1.2244898 , 1.20408163,\n",
       "       1.18367347, 1.16326531, 1.14285714, 1.12244898, 1.10204082,\n",
       "       1.08163265, 1.06122449, 1.04081633, 1.02040816, 1.        ])"
      ]
     },
     "execution_count": 24,
     "metadata": {},
     "output_type": "execute_result"
    }
   ],
   "source": [
    "np.linspace(2,1)"
   ]
  },
  {
   "cell_type": "code",
   "execution_count": 25,
   "id": "4304f646",
   "metadata": {},
   "outputs": [
    {
     "data": {
      "text/plain": [
       "array([6.        , 6.04081633, 6.08163265, 6.12244898, 6.16326531,\n",
       "       6.20408163, 6.24489796, 6.28571429, 6.32653061, 6.36734694,\n",
       "       6.40816327, 6.44897959, 6.48979592, 6.53061224, 6.57142857,\n",
       "       6.6122449 , 6.65306122, 6.69387755, 6.73469388, 6.7755102 ,\n",
       "       6.81632653, 6.85714286, 6.89795918, 6.93877551, 6.97959184,\n",
       "       7.02040816, 7.06122449, 7.10204082, 7.14285714, 7.18367347,\n",
       "       7.2244898 , 7.26530612, 7.30612245, 7.34693878, 7.3877551 ,\n",
       "       7.42857143, 7.46938776, 7.51020408, 7.55102041, 7.59183673,\n",
       "       7.63265306, 7.67346939, 7.71428571, 7.75510204, 7.79591837,\n",
       "       7.83673469, 7.87755102, 7.91836735, 7.95918367, 8.        ])"
      ]
     },
     "execution_count": 25,
     "metadata": {},
     "output_type": "execute_result"
    }
   ],
   "source": [
    "np.linspace(6,8)"
   ]
  },
  {
   "cell_type": "code",
   "execution_count": 26,
   "id": "4162d6d6",
   "metadata": {},
   "outputs": [
    {
     "data": {
      "text/plain": [
       "array([8.        , 7.87755102, 7.75510204, 7.63265306, 7.51020408,\n",
       "       7.3877551 , 7.26530612, 7.14285714, 7.02040816, 6.89795918,\n",
       "       6.7755102 , 6.65306122, 6.53061224, 6.40816327, 6.28571429,\n",
       "       6.16326531, 6.04081633, 5.91836735, 5.79591837, 5.67346939,\n",
       "       5.55102041, 5.42857143, 5.30612245, 5.18367347, 5.06122449,\n",
       "       4.93877551, 4.81632653, 4.69387755, 4.57142857, 4.44897959,\n",
       "       4.32653061, 4.20408163, 4.08163265, 3.95918367, 3.83673469,\n",
       "       3.71428571, 3.59183673, 3.46938776, 3.34693878, 3.2244898 ,\n",
       "       3.10204082, 2.97959184, 2.85714286, 2.73469388, 2.6122449 ,\n",
       "       2.48979592, 2.36734694, 2.24489796, 2.12244898, 2.        ])"
      ]
     },
     "execution_count": 26,
     "metadata": {},
     "output_type": "execute_result"
    }
   ],
   "source": [
    "np.linspace(8,2)"
   ]
  },
  {
   "cell_type": "markdown",
   "id": "d1b9ff9c",
   "metadata": {},
   "source": [
    "# 4=Axis"
   ]
  },
  {
   "cell_type": "code",
   "execution_count": 27,
   "id": "c52065ee",
   "metadata": {},
   "outputs": [],
   "source": [
    "#axis=0\n",
    "#axis=1"
   ]
  },
  {
   "cell_type": "code",
   "execution_count": 28,
   "id": "160aa763",
   "metadata": {},
   "outputs": [],
   "source": [
    "arr1 =np.array([[1,2,3]])"
   ]
  },
  {
   "cell_type": "code",
   "execution_count": 29,
   "id": "7da60a9b",
   "metadata": {},
   "outputs": [
    {
     "data": {
      "text/plain": [
       "array([[1, 2, 3]])"
      ]
     },
     "execution_count": 29,
     "metadata": {},
     "output_type": "execute_result"
    }
   ],
   "source": [
    "arr1"
   ]
  },
  {
   "cell_type": "code",
   "execution_count": 30,
   "id": "22049db0",
   "metadata": {},
   "outputs": [],
   "source": [
    "arr1 =np.array([[1,2,3],[2,3,4]])"
   ]
  },
  {
   "cell_type": "code",
   "execution_count": 31,
   "id": "e898ff86",
   "metadata": {},
   "outputs": [
    {
     "data": {
      "text/plain": [
       "array([[1, 2, 3],\n",
       "       [2, 3, 4]])"
      ]
     },
     "execution_count": 31,
     "metadata": {},
     "output_type": "execute_result"
    }
   ],
   "source": [
    "arr1"
   ]
  },
  {
   "cell_type": "code",
   "execution_count": 32,
   "id": "5e6f7395",
   "metadata": {},
   "outputs": [],
   "source": [
    "arr1 =np.array([[1,2,3],[2,3,4],[5,6,7]])"
   ]
  },
  {
   "cell_type": "code",
   "execution_count": 33,
   "id": "740abccb",
   "metadata": {},
   "outputs": [
    {
     "data": {
      "text/plain": [
       "array([[1, 2, 3],\n",
       "       [2, 3, 4],\n",
       "       [5, 6, 7]])"
      ]
     },
     "execution_count": 33,
     "metadata": {},
     "output_type": "execute_result"
    }
   ],
   "source": [
    "arr1"
   ]
  },
  {
   "cell_type": "code",
   "execution_count": 34,
   "id": "f01dc6d3",
   "metadata": {},
   "outputs": [],
   "source": [
    "arr1 =np.array([1,2,3])"
   ]
  },
  {
   "cell_type": "code",
   "execution_count": 35,
   "id": "e3489f0f",
   "metadata": {},
   "outputs": [
    {
     "data": {
      "text/plain": [
       "array([1, 2, 3])"
      ]
     },
     "execution_count": 35,
     "metadata": {},
     "output_type": "execute_result"
    }
   ],
   "source": [
    "arr1"
   ]
  },
  {
   "cell_type": "code",
   "execution_count": 36,
   "id": "162378e7",
   "metadata": {},
   "outputs": [
    {
     "data": {
      "text/plain": [
       "numpy.ndarray"
      ]
     },
     "execution_count": 36,
     "metadata": {},
     "output_type": "execute_result"
    }
   ],
   "source": [
    "type(arr1)"
   ]
  },
  {
   "cell_type": "code",
   "execution_count": 37,
   "id": "06488b49",
   "metadata": {},
   "outputs": [],
   "source": [
    "arr1 = np.array([[1,2,3],[4,5,6]])"
   ]
  },
  {
   "cell_type": "code",
   "execution_count": 38,
   "id": "78f2130d",
   "metadata": {},
   "outputs": [],
   "source": [
    "arr2 = np.array([[7,8,9],[3,5,9]])"
   ]
  },
  {
   "cell_type": "code",
   "execution_count": 39,
   "id": "f70600bb",
   "metadata": {},
   "outputs": [
    {
     "name": "stdout",
     "output_type": "stream",
     "text": [
      "[[ 8 10 12]\n",
      " [ 7 10 15]]\n"
     ]
    }
   ],
   "source": [
    "print(arr1+arr2)"
   ]
  },
  {
   "cell_type": "code",
   "execution_count": 40,
   "id": "b12c912b",
   "metadata": {},
   "outputs": [],
   "source": [
    "arr1 = np.array([[7,8,9],[3,5,9],[1,2,3]])\n",
    "arr2 = np.array([[7,8,9],[3,5,9],[2,3,4]])"
   ]
  },
  {
   "cell_type": "code",
   "execution_count": 41,
   "id": "7f01ef37",
   "metadata": {},
   "outputs": [
    {
     "name": "stdout",
     "output_type": "stream",
     "text": [
      "[[14 16 18]\n",
      " [ 6 10 18]\n",
      " [ 3  5  7]]\n"
     ]
    }
   ],
   "source": [
    "print(arr1+arr2)"
   ]
  },
  {
   "cell_type": "code",
   "execution_count": 42,
   "id": "7421e7cc",
   "metadata": {},
   "outputs": [
    {
     "data": {
      "text/plain": [
       "2"
      ]
     },
     "execution_count": 42,
     "metadata": {},
     "output_type": "execute_result"
    }
   ],
   "source": [
    "arr1.ndim"
   ]
  },
  {
   "cell_type": "code",
   "execution_count": 43,
   "id": "1e1d1a47",
   "metadata": {},
   "outputs": [],
   "source": [
    "arr1=np.array([[[7,8,9],[3,5,9],[1,2,3],[5,6,6]]])\n",
    "arr2=np.array([[[7,8,9],[3,5,9],[2,3,4],[3,5,7]]])"
   ]
  },
  {
   "cell_type": "code",
   "execution_count": 44,
   "id": "8bbc3160",
   "metadata": {},
   "outputs": [
    {
     "name": "stdout",
     "output_type": "stream",
     "text": [
      "[[[14 16 18]\n",
      "  [ 6 10 18]\n",
      "  [ 3  5  7]\n",
      "  [ 8 11 13]]]\n"
     ]
    }
   ],
   "source": [
    "print(arr1+arr2)"
   ]
  },
  {
   "cell_type": "code",
   "execution_count": 45,
   "id": "9dae7382",
   "metadata": {},
   "outputs": [
    {
     "data": {
      "text/plain": [
       "(array([[[7, 8, 9],\n",
       "         [3, 5, 9],\n",
       "         [1, 2, 3],\n",
       "         [5, 6, 6]]]),\n",
       " 3)"
      ]
     },
     "execution_count": 45,
     "metadata": {},
     "output_type": "execute_result"
    }
   ],
   "source": [
    "arr1,arr2.ndim "
   ]
  },
  {
   "cell_type": "code",
   "execution_count": 46,
   "id": "6b35d1ba",
   "metadata": {},
   "outputs": [
    {
     "data": {
      "text/plain": [
       "array([[16, 21, 27]])"
      ]
     },
     "execution_count": 46,
     "metadata": {},
     "output_type": "execute_result"
    }
   ],
   "source": [
    "arr1.sum(axis=1)"
   ]
  },
  {
   "cell_type": "code",
   "execution_count": 47,
   "id": "f5f1b361",
   "metadata": {},
   "outputs": [
    {
     "data": {
      "text/plain": [
       "array([[7, 8, 9],\n",
       "       [3, 5, 9],\n",
       "       [2, 3, 4],\n",
       "       [3, 5, 7]])"
      ]
     },
     "execution_count": 47,
     "metadata": {},
     "output_type": "execute_result"
    }
   ],
   "source": [
    "arr2.sum(axis=0)"
   ]
  },
  {
   "cell_type": "code",
   "execution_count": 48,
   "id": "a583e25c",
   "metadata": {},
   "outputs": [],
   "source": [
    "k1=np.array([[[1,2,3],[3,4,5],[4,5,6]]])"
   ]
  },
  {
   "cell_type": "code",
   "execution_count": 49,
   "id": "f26e24d3",
   "metadata": {},
   "outputs": [
    {
     "data": {
      "text/plain": [
       "array([[[1, 2, 3],\n",
       "        [3, 4, 5],\n",
       "        [4, 5, 6]]])"
      ]
     },
     "execution_count": 49,
     "metadata": {},
     "output_type": "execute_result"
    }
   ],
   "source": [
    "k1"
   ]
  },
  {
   "cell_type": "code",
   "execution_count": 50,
   "id": "05623512",
   "metadata": {},
   "outputs": [
    {
     "data": {
      "text/plain": [
       "array([[1, 2, 3],\n",
       "       [3, 4, 5],\n",
       "       [4, 5, 6]])"
      ]
     },
     "execution_count": 50,
     "metadata": {},
     "output_type": "execute_result"
    }
   ],
   "source": [
    "k1.sum(axis=0)"
   ]
  },
  {
   "cell_type": "code",
   "execution_count": 51,
   "id": "019af05d",
   "metadata": {},
   "outputs": [
    {
     "data": {
      "text/plain": [
       "array([[ 8, 11, 14]])"
      ]
     },
     "execution_count": 51,
     "metadata": {},
     "output_type": "execute_result"
    }
   ],
   "source": [
    "k1.sum(axis=1)"
   ]
  },
  {
   "cell_type": "code",
   "execution_count": 52,
   "id": "42b953f2",
   "metadata": {},
   "outputs": [
    {
     "data": {
      "text/plain": [
       "array([[[1, 2, 3],\n",
       "        [3, 4, 5],\n",
       "        [4, 5, 6]]])"
      ]
     },
     "execution_count": 52,
     "metadata": {},
     "output_type": "execute_result"
    }
   ],
   "source": [
    "k1"
   ]
  },
  {
   "cell_type": "code",
   "execution_count": 53,
   "id": "21f29cd7",
   "metadata": {},
   "outputs": [],
   "source": [
    "s=np.array([[33,44,65],[43,34,5],[7,99,6]])"
   ]
  },
  {
   "cell_type": "code",
   "execution_count": 54,
   "id": "2c85ca3f",
   "metadata": {},
   "outputs": [
    {
     "data": {
      "text/plain": [
       "array([[33, 44, 65],\n",
       "       [43, 34,  5],\n",
       "       [ 7, 99,  6]])"
      ]
     },
     "execution_count": 54,
     "metadata": {},
     "output_type": "execute_result"
    }
   ],
   "source": [
    "s"
   ]
  },
  {
   "cell_type": "code",
   "execution_count": 55,
   "id": "ce6e6bd4",
   "metadata": {},
   "outputs": [
    {
     "data": {
      "text/plain": [
       "array([[33, 43,  7],\n",
       "       [44, 34, 99],\n",
       "       [65,  5,  6]])"
      ]
     },
     "execution_count": 55,
     "metadata": {},
     "output_type": "execute_result"
    }
   ],
   "source": [
    "s.T"
   ]
  },
  {
   "cell_type": "code",
   "execution_count": null,
   "id": "b1a7a68d",
   "metadata": {},
   "outputs": [],
   "source": []
  }
 ],
 "metadata": {
  "kernelspec": {
   "display_name": "Python 3",
   "language": "python",
   "name": "python3"
  },
  "language_info": {
   "codemirror_mode": {
    "name": "ipython",
    "version": 3
   },
   "file_extension": ".py",
   "mimetype": "text/x-python",
   "name": "python",
   "nbconvert_exporter": "python",
   "pygments_lexer": "ipython3",
   "version": "3.8.8"
  }
 },
 "nbformat": 4,
 "nbformat_minor": 5
}
