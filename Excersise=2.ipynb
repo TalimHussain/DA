{
 "cells": [
  {
   "cell_type": "markdown",
   "id": "6981479a",
   "metadata": {},
   "source": [
    "# 1. Write a Python program to multiply all the items in a list.\n"
   ]
  },
  {
   "cell_type": "code",
   "execution_count": 1,
   "id": "c365f2e9",
   "metadata": {},
   "outputs": [
    {
     "name": "stdout",
     "output_type": "stream",
     "text": [
      "120\n"
     ]
    }
   ],
   "source": [
    "l1 = [1,2,3,4,5]\n",
    "p = 1\n",
    "for i in l1:\n",
    "    p = p*i\n",
    "print(p)\n"
   ]
  },
  {
   "cell_type": "markdown",
   "id": "df901a92",
   "metadata": {},
   "source": [
    "# 2. Write a Python program to get the largest number from a list.\n"
   ]
  },
  {
   "cell_type": "code",
   "execution_count": 2,
   "id": "2dc565a2",
   "metadata": {},
   "outputs": [
    {
     "name": "stdout",
     "output_type": "stream",
     "text": [
      "9\n"
     ]
    }
   ],
   "source": [
    "l2 = [1,9,3,7,4,6]\n",
    "l2.sort()\n",
    "lar = len(l2)-1\n",
    "print(l2[lar])\n"
   ]
  },
  {
   "cell_type": "markdown",
   "id": "4e461bb1",
   "metadata": {},
   "source": [
    "# 3. Write a Python program to get the smallest number from a list.\n"
   ]
  },
  {
   "cell_type": "code",
   "execution_count": 3,
   "id": "31c832fd",
   "metadata": {},
   "outputs": [
    {
     "name": "stdout",
     "output_type": "stream",
     "text": [
      "1\n"
     ]
    }
   ],
   "source": [
    "l3 = [1,9,2,8,3,8]\n",
    "l3.sort()\n",
    "print(l3[0])\n"
   ]
  },
  {
   "cell_type": "markdown",
   "id": "343c83d8",
   "metadata": {},
   "source": [
    "# 4. Write a Python program to check a list is empty or not. \n"
   ]
  },
  {
   "cell_type": "code",
   "execution_count": 4,
   "id": "30fadf26",
   "metadata": {},
   "outputs": [
    {
     "name": "stdout",
     "output_type": "stream",
     "text": [
      "List is not empty\n"
     ]
    }
   ],
   "source": [
    "l4 = [2,45]\n",
    "length = len(l4)\n",
    "if length == 0:\n",
    "    print(\"List is empty\")\n",
    "else:\n",
    "    print(\"List is not empty\")\n"
   ]
  },
  {
   "cell_type": "markdown",
   "id": "578dbfd3",
   "metadata": {},
   "source": [
    "# 5.WA python fuction that takes two list and return true if they have at least one common member\n"
   ]
  },
  {
   "cell_type": "code",
   "execution_count": 5,
   "id": "b73ca67b",
   "metadata": {},
   "outputs": [
    {
     "data": {
      "text/plain": [
       "True"
      ]
     },
     "execution_count": 5,
     "metadata": {},
     "output_type": "execute_result"
    }
   ],
   "source": [
    "list1 = [1,2,3,4]\n",
    "list2 = [4,6,7,8]\n",
    "def compare(l1,l2):\n",
    "    for i in l1:\n",
    "        for j in l2:\n",
    "            if i == j:\n",
    "                return True\n",
    "    return False  \n",
    "compare(list1,list2)"
   ]
  },
  {
   "cell_type": "code",
   "execution_count": null,
   "id": "d5471085",
   "metadata": {},
   "outputs": [],
   "source": []
  },
  {
   "cell_type": "code",
   "execution_count": null,
   "id": "7d236c71",
   "metadata": {},
   "outputs": [],
   "source": []
  },
  {
   "cell_type": "code",
   "execution_count": null,
   "id": "8f1467bd",
   "metadata": {},
   "outputs": [],
   "source": [
    "def fun (list1,list2):"
   ]
  },
  {
   "cell_type": "code",
   "execution_count": null,
   "id": "44926874",
   "metadata": {},
   "outputs": [],
   "source": []
  },
  {
   "cell_type": "code",
   "execution_count": null,
   "id": "0ff9d066",
   "metadata": {},
   "outputs": [],
   "source": []
  },
  {
   "cell_type": "code",
   "execution_count": null,
   "id": "afcaa5a0",
   "metadata": {},
   "outputs": [],
   "source": []
  },
  {
   "cell_type": "code",
   "execution_count": null,
   "id": "30b7280f",
   "metadata": {},
   "outputs": [],
   "source": []
  },
  {
   "cell_type": "markdown",
   "id": "555a9add",
   "metadata": {},
   "source": [
    "# 6.WAP to print a specified list after removing 0th, 4th ,5th\n"
   ]
  },
  {
   "cell_type": "code",
   "execution_count": 8,
   "id": "170c37d0",
   "metadata": {},
   "outputs": [],
   "source": [
    "s = [1,2,3,4,5,6,7,8,9]\n",
    "s.remove(1)\n",
    "s.remove(5)\n",
    "s.remove(6)\n"
   ]
  },
  {
   "cell_type": "code",
   "execution_count": null,
   "id": "ff9d8dc4",
   "metadata": {},
   "outputs": [],
   "source": []
  },
  {
   "cell_type": "code",
   "execution_count": null,
   "id": "d664efca",
   "metadata": {},
   "outputs": [],
   "source": []
  },
  {
   "cell_type": "code",
   "execution_count": null,
   "id": "867c0482",
   "metadata": {},
   "outputs": [],
   "source": []
  },
  {
   "cell_type": "code",
   "execution_count": null,
   "id": "6f33262d",
   "metadata": {},
   "outputs": [],
   "source": []
  },
  {
   "cell_type": "code",
   "execution_count": null,
   "id": "3c623d92",
   "metadata": {},
   "outputs": [],
   "source": []
  },
  {
   "cell_type": "code",
   "execution_count": 9,
   "id": "cacb47f5",
   "metadata": {},
   "outputs": [
    {
     "data": {
      "text/plain": [
       "[2, 3, 4, 7, 8, 9]"
      ]
     },
     "execution_count": 9,
     "metadata": {},
     "output_type": "execute_result"
    }
   ],
   "source": [
    "s"
   ]
  },
  {
   "cell_type": "markdown",
   "id": "0973b388",
   "metadata": {},
   "source": [
    "# 7.WAP to concatenate two dic\n"
   ]
  },
  {
   "cell_type": "code",
   "execution_count": 10,
   "id": "28d8d150",
   "metadata": {},
   "outputs": [
    {
     "name": "stdout",
     "output_type": "stream",
     "text": [
      "{1: 10, 2: 20, 3: 30, 4: 40}\n"
     ]
    }
   ],
   "source": [
    "dict1 = {1:10,2:20}\n",
    "dict2 = {3:30,4:40}\n",
    "\n",
    "dict1.update(dict2)\n",
    "print(dict1)\n"
   ]
  },
  {
   "cell_type": "markdown",
   "id": "e36e0369",
   "metadata": {},
   "source": [
    "# 8.WAP to create a tuple with different data types\n"
   ]
  },
  {
   "cell_type": "code",
   "execution_count": 15,
   "id": "62e8b60a",
   "metadata": {},
   "outputs": [
    {
     "name": "stdout",
     "output_type": "stream",
     "text": [
      "(1, 1.2, 'Ankit', True, (4+6j))\n"
     ]
    }
   ],
   "source": [
    "tup = (1,1.2,\"Ankit\",True,4+6j)\n",
    "print(tup1)\n"
   ]
  },
  {
   "cell_type": "code",
   "execution_count": 17,
   "id": "ff74bccf",
   "metadata": {},
   "outputs": [
    {
     "data": {
      "text/plain": [
       "tuple"
      ]
     },
     "execution_count": 17,
     "metadata": {},
     "output_type": "execute_result"
    }
   ],
   "source": [
    "type(tup)"
   ]
  },
  {
   "cell_type": "markdown",
   "id": "e1e77d89",
   "metadata": {},
   "source": [
    "# 9.WAP to create a tuple with numbers and print one item\n"
   ]
  },
  {
   "cell_type": "code",
   "execution_count": 18,
   "id": "5dc2fe83",
   "metadata": {},
   "outputs": [
    {
     "name": "stdout",
     "output_type": "stream",
     "text": [
      "3\n"
     ]
    }
   ],
   "source": [
    "tup2 = (1,2,3,4,5,6,7,8)\n",
    "print(tup2[2])\n"
   ]
  },
  {
   "cell_type": "markdown",
   "id": "70b4af02",
   "metadata": {},
   "source": [
    "# 10.WAP to convert a tuple into string\n"
   ]
  },
  {
   "cell_type": "code",
   "execution_count": 19,
   "id": "dab31452",
   "metadata": {},
   "outputs": [
    {
     "name": "stdout",
     "output_type": "stream",
     "text": [
      "123456\n"
     ]
    },
    {
     "data": {
      "text/plain": [
       "str"
      ]
     },
     "execution_count": 19,
     "metadata": {},
     "output_type": "execute_result"
    }
   ],
   "source": [
    "tup3 = (1,2,3,4,5,6)\n",
    "str1 = \"\"\n",
    "for i in tup3:\n",
    "    i = str(i)\n",
    "    str1 +=i\n",
    "print(str1)  \n",
    "type(str1)"
   ]
  },
  {
   "cell_type": "markdown",
   "id": "04e35583",
   "metadata": {},
   "source": [
    "# 11.WAP to get 4th element and 4th last elemtn from tuple\n"
   ]
  },
  {
   "cell_type": "code",
   "execution_count": 20,
   "id": "90f6682f",
   "metadata": {},
   "outputs": [
    {
     "name": "stdout",
     "output_type": "stream",
     "text": [
      "4\n",
      "6\n"
     ]
    }
   ],
   "source": [
    "tup4 = (1,2,3,4,5,6,7,8,9)\n",
    "print(tup4[3])\n",
    "print(tup4[-4])\n"
   ]
  },
  {
   "cell_type": "markdown",
   "id": "c4bee5e3",
   "metadata": {},
   "source": [
    "# 13. WA function to sum all numbers in alist\n"
   ]
  },
  {
   "cell_type": "code",
   "execution_count": 21,
   "id": "215811ac",
   "metadata": {},
   "outputs": [],
   "source": [
    "def sum_list(s_list):\n",
    "    sum_num = 0\n",
    "    for i in s_list:\n",
    "        sum_num += i\n",
    "    return sum_num\n"
   ]
  },
  {
   "cell_type": "code",
   "execution_count": 22,
   "id": "3f55479c",
   "metadata": {},
   "outputs": [
    {
     "data": {
      "text/plain": [
       "20"
      ]
     },
     "execution_count": 22,
     "metadata": {},
     "output_type": "execute_result"
    }
   ],
   "source": [
    "sum_list([8,2,3,0,7])\n"
   ]
  },
  {
   "cell_type": "markdown",
   "id": "1b424ef7",
   "metadata": {},
   "source": [
    "# 14. WA function to sum all numbers in alist\n"
   ]
  },
  {
   "cell_type": "code",
   "execution_count": 24,
   "id": "699d487c",
   "metadata": {},
   "outputs": [],
   "source": [
    "def mul_list(s_list):\n",
    "    mul_num = 1\n",
    "    for i in s_list:\n",
    "        mul_num *= i\n",
    "    return mul_num\n"
   ]
  },
  {
   "cell_type": "code",
   "execution_count": 25,
   "id": "5a8d82b0",
   "metadata": {},
   "outputs": [
    {
     "data": {
      "text/plain": [
       "-336"
      ]
     },
     "execution_count": 25,
     "metadata": {},
     "output_type": "execute_result"
    }
   ],
   "source": [
    "mul_list([8,2,3,-1,7])\n"
   ]
  },
  {
   "cell_type": "markdown",
   "id": "53d46513",
   "metadata": {},
   "source": [
    "# 15. Calculate the sum of all numbers from 1 to given numbers\n"
   ]
  },
  {
   "cell_type": "code",
   "execution_count": 26,
   "id": "d41f8257",
   "metadata": {},
   "outputs": [
    {
     "name": "stdout",
     "output_type": "stream",
     "text": [
      "15\n"
     ]
    }
   ],
   "source": [
    "given = 5\n",
    "sum = 0\n",
    "for i in range(1,given+1):\n",
    "    sum += i\n",
    "print(sum)\n"
   ]
  },
  {
   "cell_type": "markdown",
   "id": "6619e650",
   "metadata": {},
   "source": [
    "# 16. WAP to print a table of given number\n"
   ]
  },
  {
   "cell_type": "code",
   "execution_count": 27,
   "id": "b5ac7171",
   "metadata": {},
   "outputs": [
    {
     "name": "stdout",
     "output_type": "stream",
     "text": [
      "Enter the number: 7\n",
      "7 * 1 = 7\n",
      "7 * 2 = 14\n",
      "7 * 3 = 21\n",
      "7 * 4 = 28\n",
      "7 * 5 = 35\n",
      "7 * 6 = 42\n",
      "7 * 7 = 49\n",
      "7 * 8 = 56\n",
      "7 * 9 = 63\n",
      "7 * 10 = 70\n"
     ]
    }
   ],
   "source": [
    "num = int(input(\"Enter the number: \"))\n",
    "for i in range(1,11):\n",
    "    print(num,\"*\",i,\"=\",num*i)\n"
   ]
  },
  {
   "cell_type": "markdown",
   "id": "bd91bbad",
   "metadata": {},
   "source": [
    "# 17.Display numbers form a list using loop\n"
   ]
  },
  {
   "cell_type": "code",
   "execution_count": 28,
   "id": "31d176a5",
   "metadata": {},
   "outputs": [
    {
     "name": "stdout",
     "output_type": "stream",
     "text": [
      "1\n",
      "2\n",
      "3\n",
      "4\n",
      "5\n",
      "6\n",
      "7\n",
      "8\n",
      "0\n"
     ]
    }
   ],
   "source": [
    "list_n = [1,2,3,4,5,6,7,8,0]\n",
    "for i in list_n:\n",
    "    print(i)\n"
   ]
  },
  {
   "cell_type": "markdown",
   "id": "87c0251b",
   "metadata": {},
   "source": [
    "# 18. WAP to count the total number of digits in a number\n"
   ]
  },
  {
   "cell_type": "code",
   "execution_count": 29,
   "id": "4d6fdcf3",
   "metadata": {},
   "outputs": [
    {
     "name": "stdout",
     "output_type": "stream",
     "text": [
      "Enter your number: 234\n",
      "3\n"
     ]
    }
   ],
   "source": [
    "num_1 = int(input(\"Enter your number: \"))\n",
    "num_1 = str(num_1)\n",
    "print(len(num_1))\n"
   ]
  },
  {
   "cell_type": "markdown",
   "id": "05923458",
   "metadata": {},
   "source": [
    "# 19.A company decided to give bonus of 5% to employee if his/her year of service is more than 5 years. Ask user for their salary and year of service and print the net bonus amount.\n"
   ]
  },
  {
   "cell_type": "code",
   "execution_count": null,
   "id": "d69cad2b",
   "metadata": {},
   "outputs": [],
   "source": []
  },
  {
   "cell_type": "markdown",
   "id": "a82531f5",
   "metadata": {},
   "source": [
    "# 20.Take values of length and breadth of a rectangle from user and check if it is square or not.\n"
   ]
  },
  {
   "cell_type": "code",
   "execution_count": 30,
   "id": "a1ca028d",
   "metadata": {},
   "outputs": [
    {
     "name": "stdout",
     "output_type": "stream",
     "text": [
      "Enter the length: 9\n",
      "Enter the breadth: 9\n",
      "It is a square\n"
     ]
    }
   ],
   "source": [
    "length = int(input(\"Enter the length: \"))\n",
    "breadth = int(input(\"Enter the breadth: \"))\n",
    "\n",
    "if length == breadth:\n",
    "    print(\"It is a square\")\n",
    "else:\n",
    "    print(\"It is not a square\")\n"
   ]
  },
  {
   "cell_type": "markdown",
   "id": "e6442bf5",
   "metadata": {},
   "source": [
    "# 20.Take values of length and breadth of a rectangle from user and check if it is square or not.\n",
    "A school has following rules for grading system:\n",
    "a. Below 25 - F\n",
    "\n",
    "b. 25 to 45 - E\n",
    "\n",
    "c. 45 to 50 - D\n",
    "\n",
    "d. 50 to 60 - C\n",
    "\n",
    "e. 60 to 80 - B\n",
    "\n",
    "f. Above 80 - A\n",
    "\n",
    "Ask user to enter marks and print the corresponding grade\n"
   ]
  },
  {
   "cell_type": "code",
   "execution_count": null,
   "id": "40d14577",
   "metadata": {},
   "outputs": [],
   "source": []
  },
  {
   "cell_type": "markdown",
   "id": "aadae628",
   "metadata": {},
   "source": [
    "# 21.Take input of age of 3 people by user and determine oldest and youngest among them.\n"
   ]
  },
  {
   "cell_type": "code",
   "execution_count": null,
   "id": "eb507178",
   "metadata": {},
   "outputs": [],
   "source": []
  },
  {
   "cell_type": "markdown",
   "id": "17844433",
   "metadata": {},
   "source": [
    "# 22.A student will not be allowed to sit in exam if his/her attendence is less than 75%.\n",
    "Take following input from user\n",
    "Number of classes held\n",
    "Number of classes attended.\n",
    "And print\n",
    "percentage of class attended\n",
    "Is student is allowed to sit in exam or not.\n"
   ]
  },
  {
   "cell_type": "code",
   "execution_count": null,
   "id": "12dfac12",
   "metadata": {},
   "outputs": [],
   "source": []
  },
  {
   "cell_type": "code",
   "execution_count": null,
   "id": "84024e7b",
   "metadata": {},
   "outputs": [],
   "source": []
  }
 ],
 "metadata": {
  "kernelspec": {
   "display_name": "Python 3",
   "language": "python",
   "name": "python3"
  },
  "language_info": {
   "codemirror_mode": {
    "name": "ipython",
    "version": 3
   },
   "file_extension": ".py",
   "mimetype": "text/x-python",
   "name": "python",
   "nbconvert_exporter": "python",
   "pygments_lexer": "ipython3",
   "version": "3.8.8"
  }
 },
 "nbformat": 4,
 "nbformat_minor": 5
}
